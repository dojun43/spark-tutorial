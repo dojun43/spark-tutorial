{
 "cells": [
  {
   "cell_type": "code",
   "execution_count": 12,
   "id": "72db630a-be2c-4a3c-94bf-be5ec1bb2a6b",
   "metadata": {},
   "outputs": [
    {
     "name": "stdout",
     "output_type": "stream",
     "text": [
      "Connected to Spark version: 3.5.0\n"
     ]
    }
   ],
   "source": [
    "from pyspark.sql import SparkSession\n",
    "\n",
    "spark = SparkSession.builder \\\n",
    "    .master(\"spark://spark-master:7077\") \\\n",
    "    .appName(\"Jupytertest\") \\\n",
    "    .getOrCreate()\n",
    "\n",
    "# SparkContext 확인\n",
    "sc = spark.sparkContext\n",
    "print(f\"Connected to Spark version: {sc.version}\")"
   ]
  },
  {
   "cell_type": "code",
   "execution_count": 8,
   "id": "66a8af31-71c7-4e19-910a-9da3d53573ed",
   "metadata": {},
   "outputs": [
    {
     "name": "stdout",
     "output_type": "stream",
     "text": [
      "Python 3.11.6\n"
     ]
    }
   ],
   "source": [
    "! python --version\n",
    "\n",
    "# Python 3.9.17 -> spark"
   ]
  },
  {
   "cell_type": "code",
   "execution_count": 9,
   "id": "a9ca995f-9fb7-4d54-a960-509ea8089638",
   "metadata": {},
   "outputs": [],
   "source": [
    "# 0부터 9까지의 숫자를 포함하는 DataFrame 생성\n",
    "df = spark.range(1000)"
   ]
  },
  {
   "cell_type": "code",
   "execution_count": 10,
   "id": "3176e2e1-9fb8-4b27-a23e-05febf46f85c",
   "metadata": {},
   "outputs": [
    {
     "name": "stdout",
     "output_type": "stream",
     "text": [
      "+---+\n",
      "| id|\n",
      "+---+\n",
      "|  0|\n",
      "|  1|\n",
      "|  2|\n",
      "|  3|\n",
      "|  4|\n",
      "|  5|\n",
      "|  6|\n",
      "|  7|\n",
      "|  8|\n",
      "|  9|\n",
      "| 10|\n",
      "| 11|\n",
      "| 12|\n",
      "| 13|\n",
      "| 14|\n",
      "| 15|\n",
      "| 16|\n",
      "| 17|\n",
      "| 18|\n",
      "| 19|\n",
      "+---+\n",
      "only showing top 20 rows\n",
      "\n"
     ]
    }
   ],
   "source": [
    "# DataFrame 출력\n",
    "df.show()"
   ]
  },
  {
   "cell_type": "code",
   "execution_count": 13,
   "id": "f22a20ed-27d6-454a-9a8a-bff05ef2c709",
   "metadata": {},
   "outputs": [],
   "source": [
    "spark.stop()"
   ]
  },
  {
   "cell_type": "code",
   "execution_count": null,
   "id": "696666a4-9aa5-44c1-9ae0-cccc6fccee3c",
   "metadata": {},
   "outputs": [],
   "source": []
  }
 ],
 "metadata": {
  "kernelspec": {
   "display_name": "Python 3 (ipykernel)",
   "language": "python",
   "name": "python3"
  },
  "language_info": {
   "codemirror_mode": {
    "name": "ipython",
    "version": 3
   },
   "file_extension": ".py",
   "mimetype": "text/x-python",
   "name": "python",
   "nbconvert_exporter": "python",
   "pygments_lexer": "ipython3",
   "version": "3.11.6"
  }
 },
 "nbformat": 4,
 "nbformat_minor": 5
}
